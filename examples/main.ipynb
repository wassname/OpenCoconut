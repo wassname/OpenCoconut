{
 "cells": [
  {
   "cell_type": "code",
   "execution_count": 1,
   "metadata": {},
   "outputs": [],
   "source": [
    "%reload_ext autoreload\n",
    "%autoreload 2"
   ]
  },
  {
   "cell_type": "markdown",
   "metadata": {
    "vscode": {
     "languageId": "plaintext"
    }
   },
   "source": [
    "## Train"
   ]
  },
  {
   "cell_type": "code",
   "execution_count": 2,
   "metadata": {},
   "outputs": [],
   "source": [
    "import os\n",
    "import torch\n",
    "import logging\n",
    "from transformers import (\n",
    "    Trainer,\n",
    "    TrainingArguments,\n",
    "    AutoTokenizer,\n",
    ")\n",
    "from opencoconut import (\n",
    "    AutoCoconutForCausalLM,\n",
    "    CoconutConfig,\n",
    "    CoTDataset,\n",
    ")\n",
    "from pathlib import Path\n",
    "import gc\n",
    "\n",
    "# Configure logging\n",
    "from loguru import logger\n",
    "\n",
    "def clear_memory():\n",
    "    torch.cuda.empty_cache()\n",
    "    gc.collect()\n",
    "\n",
    "def get_device():\n",
    "    if torch.backends.mps.is_available():\n",
    "        return \"mps\"\n",
    "    elif torch.cuda.is_available():\n",
    "        return \"cuda\"\n",
    "    else:\n",
    "        return \"cpu\""
   ]
  },
  {
   "cell_type": "code",
   "execution_count": null,
   "metadata": {},
   "outputs": [],
   "source": []
  },
  {
   "cell_type": "code",
   "execution_count": 3,
   "metadata": {},
   "outputs": [
    {
     "data": {
      "text/plain": [
       "{'model_name': 'Qwen/Qwen2.5-0.5B',\n",
       " 'batch_size': 4,\n",
       " 'learning_rate': 0.0001,\n",
       " 'samples_per_epoch': 2000,\n",
       " 'output_dir': './output/small',\n",
       " 'num_epochs': 1}"
      ]
     },
     "execution_count": 3,
     "metadata": {},
     "output_type": "execute_result"
    }
   ],
   "source": [
    "config_debug = {\n",
    "    'model_name': \"Qwen/Qwen2.5-0.5B\",\n",
    "    'batch_size': 4,\n",
    "    'learning_rate': 4e-4,\n",
    "    'samples_per_epoch': 12,\n",
    "    'output_dir': \"./output/small\",\n",
    "    'num_epochs': 1,\n",
    "}\n",
    "config_small = {\n",
    "    'model_name': \"Qwen/Qwen2.5-0.5B\",\n",
    "    'batch_size': 4,\n",
    "    'learning_rate': 1e-4,\n",
    "    'samples_per_epoch': 2000,\n",
    "    'output_dir': \"./output/small\",\n",
    "    'num_epochs': 1,\n",
    "}\n",
    "config_medium = {\n",
    "    'model_name': \"Qwen/Qwen2.5-2.5B\",\n",
    "    'batch_size': 1,\n",
    "    'learning_rate': 5e-5,\n",
    "    'samples_per_epoch': 30000,\n",
    "    'output_dir': \"./output/small\",\n",
    "    'num_epochs': 3,\n",
    "}\n",
    "config = config_small\n",
    "\n",
    "DEBUG = False\n",
    "if DEBUG:\n",
    "    config = config_debug\n",
    "    os.environ[\"DEBUG\"] = \"1\"\n",
    "\n",
    "config"
   ]
  },
  {
   "cell_type": "markdown",
   "metadata": {},
   "source": [
    "## Load model"
   ]
  },
  {
   "cell_type": "code",
   "execution_count": 4,
   "metadata": {},
   "outputs": [
    {
     "name": "stderr",
     "output_type": "stream",
     "text": [
      "\u001b[32m2025-01-15 20:53:48.708\u001b[0m | \u001b[1mINFO    \u001b[0m | \u001b[36m__main__\u001b[0m:\u001b[36m<module>\u001b[0m:\u001b[36m2\u001b[0m - \u001b[1mInitializing model and tokenizer\u001b[0m\n",
      "Some weights of CoconutQwen2ForCausalLM were not initialized from the model checkpoint at Qwen/Qwen2.5-0.5B and are newly initialized: ['switch.0.bias', 'switch.0.weight']\n",
      "You should probably TRAIN this model on a down-stream task to be able to use it for predictions and inference.\n"
     ]
    }
   ],
   "source": [
    "\n",
    "\n",
    "# Initialize model and tokenizer\n",
    "logger.info(\"Initializing model and tokenizer\")\n",
    "output_dir = Path(config['output_dir'])\n",
    "\n",
    "# tokenizer\n",
    "tokenizer = AutoTokenizer.from_pretrained(config['model_name'], padding_side=\"left\")\n",
    "tokenizer.bos_token = \"<|im_start|>\"\n",
    "tokenizer.eos_token = \"<|im_end|>\"\n",
    "tokenizer.pad_token = \"<|endoftext|>\"\n",
    "\n",
    "# config and model\n",
    "# FIXME we wont need custom tokens anymore\n",
    "coconut_config = CoconutConfig.from_tokenizer(\n",
    "    tokenizer,\n",
    "    stages=4,\n",
    "    continuous_thoughts=2,\n",
    ")\n",
    "model = AutoCoconutForCausalLM.from_pretrained(\n",
    "    config['model_name'], coconut_config, torch_dtype=torch.bfloat16, device_map=get_device()\n",
    ")\n",
    "model.resize_token_embeddings(len(tokenizer))\n",
    "model.tokenizer = tokenizer\n",
    "\n",
    "# Set up training arguments\n",
    "training_args = TrainingArguments(\n",
    "    output_dir=output_dir,\n",
    "    per_device_train_batch_size=config['batch_size'],\n",
    "    gradient_accumulation_steps=1,\n",
    "    learning_rate=config['learning_rate'],\n",
    "    warmup_ratio=0.1,\n",
    "    max_steps=config['samples_per_epoch']//config['batch_size']*config['num_epochs'],\n",
    "    logging_steps=100, # TODO ideally we log to tensorboard every step, but to ui every 100 steps\n",
    "    save_steps=10000,\n",
    "    bf16=True,\n",
    "    bf16_full_eval=True,\n",
    "    optim=\"adamw_torch\", # save memory: adamw_bnb_8bit\n",
    ")\n"
   ]
  },
  {
   "cell_type": "markdown",
   "metadata": {},
   "source": [
    "## Base eval"
   ]
  },
  {
   "cell_type": "code",
   "execution_count": 5,
   "metadata": {},
   "outputs": [],
   "source": [
    "from opencoconut.evaluate import evaluate, extract_generated_answer\n",
    "from torch.utils.data import DataLoader\n",
    "\n",
    "# Load val data\n",
    "dataset_val = CoTDataset(\n",
    "    \"casperhansen/gsm8k_synthetic_cot\",\n",
    "    tokenizer,\n",
    "    max_length=256,\n",
    "    coconut_config=model.coconut_config,\n",
    "    current_stage=model.coconut_config.stages,\n",
    "    split=\"valid[:64]\" if DEBUG else \"valid\",\n",
    ")\n",
    "dataloader_val = DataLoader(dataset_val, batch_size=config['batch_size'], shuffle=False)\n",
    "max_new_tokens = 6 if DEBUG else 64\n",
    "# eval final model\n",
    "# accuracy = evaluate(dataloader_val, tokenizer, model, max_new_tokens)\n",
    "# print(f\"Accuracy: {accuracy}\")"
   ]
  },
  {
   "cell_type": "markdown",
   "metadata": {},
   "source": [
    "### QC"
   ]
  },
  {
   "cell_type": "code",
   "execution_count": null,
   "metadata": {},
   "outputs": [],
   "source": [
    "if DEBUG:\n",
    "    # QC forward: part 1\n",
    "    clear_memory()\n",
    "    dataset = CoTDataset(\n",
    "        \"casperhansen/gsm8k_synthetic_cot\",\n",
    "        tokenizer,\n",
    "        max_length=256, # all less than 256, most < 128\n",
    "        coconut_config=coconut_config,\n",
    "        current_stage=1,\n",
    "        split=f\"train[:{config['samples_per_epoch']}]\",\n",
    "    )\n",
    "    dl = torch.utils.data.DataLoader(dataset, batch_size=config['batch_size'])\n",
    "    batch = next(iter(dl))\n",
    "    batch = {k: v.to(get_device()) for k, v in batch.items()}\n",
    "    print(batch.keys(), batch['input_ids'].shape)"
   ]
  },
  {
   "cell_type": "code",
   "execution_count": null,
   "metadata": {},
   "outputs": [],
   "source": [
    "if DEBUG:\n",
    "    # QC forward: part 2\n",
    "    for i in [0, 1, 2]:\n",
    "        model.current_stage = i\n",
    "        print(f\"Stage {i}\")\n",
    "        with torch.no_grad():\n",
    "            model.eval()\n",
    "            o = model(**batch, output_hidden_states=True)\n",
    "            print(o.keys())\n",
    "            model.train()\n",
    "            o = model(**batch, output_hidden_states=True)\n",
    "            print(o.keys(), o['loss'].shape)\n",
    "            print(o['loss'].item())"
   ]
  },
  {
   "cell_type": "code",
   "execution_count": 8,
   "metadata": {},
   "outputs": [],
   "source": [
    "# if DEBUG:\n",
    "#     # QC train\n",
    "#     clear_memory()\n",
    "#     dataset = CoTDataset(\n",
    "#         \"casperhansen/gsm8k_synthetic_cot\",\n",
    "#         tokenizer,\n",
    "#         max_length=256, # all less than 256, most < 128\n",
    "#         coconut_config=coconut_config,\n",
    "#         current_stage=1,\n",
    "#         split=f\"train[:{config['samples_per_epoch']}]\",\n",
    "#     )\n",
    "#     trainer = Trainer(\n",
    "#         model=model,\n",
    "#         args=training_args,\n",
    "#         train_dataset=dataset,\n",
    "#     )\n",
    "#     trainer.train()"
   ]
  },
  {
   "cell_type": "markdown",
   "metadata": {},
   "source": [
    "### Train"
   ]
  },
  {
   "cell_type": "code",
   "execution_count": 9,
   "metadata": {},
   "outputs": [],
   "source": [
    "# save base checkpoint\n",
    "if not DEBUG:\n",
    "    current_output_dir = output_dir/\"stage0}\"\n",
    "    current_output_dir = current_output_dir/\"checkpoint-base\"\n",
    "    model.save_pretrained(current_output_dir)\n",
    "    tokenizer.save_pretrained(current_output_dir)"
   ]
  },
  {
   "cell_type": "code",
   "execution_count": 10,
   "metadata": {},
   "outputs": [],
   "source": [
    "# torch.autograd.set_detect_anomaly(True)"
   ]
  },
  {
   "cell_type": "code",
   "execution_count": null,
   "metadata": {},
   "outputs": [],
   "source": [
    "\n",
    "# Initialize trainer\n",
    "for stage in range(coconut_config.stages):\n",
    "\n",
    "    dataset = trainer = None    \n",
    "    clear_memory()\n",
    "    \n",
    "    logger.info(f\"starting stage {stage}\")\n",
    "    logger.info(\"preparing dataset\")\n",
    "    dataset = CoTDataset(\n",
    "        \"casperhansen/gsm8k_synthetic_cot\",\n",
    "        tokenizer,\n",
    "        max_length=256, # all less than 256, most < 128\n",
    "        coconut_config=coconut_config,\n",
    "        current_stage=stage,\n",
    "        split=f\"train[:{config['samples_per_epoch']}]\",\n",
    "    )\n",
    "    logger.info(f\"dataset size: {len(dataset)}\")\n",
    "    model.current_stage = stage\n",
    "    current_output_dir = output_dir/f\"stage{stage}\"\n",
    "    training_args.output_dir = current_output_dir\n",
    "\n",
    "    if stage == 0:\n",
    "        training_args.num_train_epochs = config['num_epochs']\n",
    "    elif stage == coconut_config.stages-2:\n",
    "        # Penultimate stage removes all the remaining language reasoning chain\n",
    "        # This handles the long-tail distribution of reasoning chains longer than 3 steps\n",
    "        dataset.include_reasoning_steps = False\n",
    "        training_args.num_train_epochs = config['num_epochs']\n",
    "    elif stage == coconut_config.stages-1:\n",
    "        # For all datasets, after the standard schedule,\n",
    "        # the model stays in the final training stage, until the 50th epoch.\n",
    "        dataset.include_reasoning_steps = True\n",
    "        training_args.num_train_epochs = config['num_epochs'] * 3\n",
    "\n",
    "    logger.info(\"starting training\")\n",
    "    trainer = Trainer(\n",
    "        model=model,\n",
    "        args=training_args,\n",
    "        train_dataset=dataset,\n",
    "    )\n",
    "    trainer.train()\n",
    "\n",
    "    # save tokenizer to all checkpoints after training\n",
    "    for folder in os.listdir(current_output_dir):\n",
    "        if folder.startswith(\"checkpoint-\"):\n",
    "            checkpoint_folder = os.path.join(current_output_dir, folder)\n",
    "            if os.path.isdir(checkpoint_folder):\n",
    "                tokenizer.save_pretrained(checkpoint_folder)\n",
    "\n",
    "    # save final checkpoint\n",
    "    current_output_dir = current_output_dir/\"checkpoint-final\"\n",
    "    model.save_pretrained(current_output_dir)\n",
    "    tokenizer.save_pretrained(current_output_dir)\n",
    "    logger.info(f\"finished stage {stage}. Saved to {current_output_dir}\")\n",
    "\n",
    "    clear_memory()"
   ]
  },
  {
   "cell_type": "code",
   "execution_count": null,
   "metadata": {},
   "outputs": [],
   "source": []
  },
  {
   "cell_type": "markdown",
   "metadata": {},
   "source": [
    "## Infer"
   ]
  },
  {
   "cell_type": "code",
   "execution_count": 12,
   "metadata": {},
   "outputs": [],
   "source": [
    "os.environ[\"CUDA_LAUNCH_BLOCKING\"] = \"1\""
   ]
  },
  {
   "cell_type": "code",
   "execution_count": 21,
   "metadata": {},
   "outputs": [],
   "source": [
    "model = model.cpu() # HACK"
   ]
  },
  {
   "cell_type": "code",
   "execution_count": null,
   "metadata": {},
   "outputs": [],
   "source": [
    "from transformers import AutoTokenizer, TextStreamer\n",
    "streamer = TextStreamer(tokenizer, skip_prompt=False, skip_special_tokens=False)\n",
    "\n",
    "prompt = \"John cuts his grass to 2 inches. \" \\\n",
    "         \"It grows .5 inches per month. \" \\\n",
    "         \"When it gets to 4 inches he cuts it back down to 2 inches. \" \\\n",
    "         \"It cost $100 to get his grass cut. How much does he pay per year?\"\n",
    "\n",
    "ans = \"\"\"\n",
    "# since it starts at 2 and never gets cut below 2, we can consider only the extra growth\n",
    "growth_annual = 0.5*12\n",
    "cost_per_inch = 100/2\n",
    "cuts = growth_annual // 2 # round it down\n",
    "cost_per_year = growth_annual * cost_per_inch\n",
    "print(f\"cost per year: {cost_per_year}==300.0\")\n",
    "\"\"\"\n",
    "\n",
    "inputs = tokenizer(prompt, return_tensors=\"pt\").to(model.device)\n",
    "\n",
    "print('## With out thought token')\n",
    "outputs1 = model.generate(\n",
    "    **inputs,\n",
    "    do_sample=True,\n",
    "    max_new_tokens=64,\n",
    "    streamer=streamer,\n",
    "    eos_token_id=tokenizer.eos_token_id,\n",
    ")\n",
    "\n",
    "# add beginning of thought token?\n",
    "# inputs['input_ids'], inputs['attention_mask'] = model.append_bot_token(inputs['input_ids'], inputs['attention_mask'])\n",
    "\n",
    "# print('\\n## With thought token')\n",
    "# outputs2 = model.generate(\n",
    "#     **inputs,\n",
    "#     do_sample=True,\n",
    "#     max_new_tokens=64,\n",
    "#     streamer=streamer,\n",
    "#     eos_token_id=tokenizer.eos_token_id,\n",
    "# )"
   ]
  },
  {
   "cell_type": "markdown",
   "metadata": {},
   "source": [
    "## Eval"
   ]
  },
  {
   "cell_type": "code",
   "execution_count": 22,
   "metadata": {},
   "outputs": [],
   "source": [
    "from transformers import (\n",
    "    AutoTokenizer,\n",
    "    PreTrainedModel,\n",
    "    PreTrainedTokenizer,\n",
    ")\n",
    "from opencoconut import AutoCoconutForCausalLM, CoTDataset, split_sequences\n",
    "from torch.utils.data import DataLoader\n",
    "from tqdm.auto import tqdm"
   ]
  },
  {
   "cell_type": "code",
   "execution_count": 23,
   "metadata": {},
   "outputs": [],
   "source": [
    "tokenizer.padding_side = \"left\"\n",
    "model.tokenizer.padding_side = \"left\""
   ]
  },
  {
   "cell_type": "code",
   "execution_count": null,
   "metadata": {},
   "outputs": [],
   "source": [
    "# eval final model\n",
    "accuracy = evaluate(dataloader_val, tokenizer, model, max_new_tokens)\n",
    "print(f\"Accuracy: {accuracy}\")"
   ]
  },
  {
   "cell_type": "code",
   "execution_count": null,
   "metadata": {},
   "outputs": [],
   "source": []
  },
  {
   "cell_type": "code",
   "execution_count": null,
   "metadata": {},
   "outputs": [],
   "source": [
    "# what if we explicitly start of BoThought token\n",
    "accuracy = evaluate(dataloader_val, tokenizer, model, max_new_tokens, add_bot=True)\n",
    "print(f\"Accuracy: {accuracy}\")"
   ]
  },
  {
   "cell_type": "code",
   "execution_count": null,
   "metadata": {},
   "outputs": [],
   "source": [
    "# # eval all check, we want to see acc increasing from the first, which is the base model\n",
    "\n",
    "# # FIXME loading seems broken :(\n",
    "\n",
    "# checkpoints = sorted(output_dir.glob(\"stage*/*base\")) + sorted(output_dir.glob(\"stage*/*final\"))\n",
    "\n",
    "# for checkpoint in checkpoints:\n",
    "#     print(f\"Loading checkpoint: {checkpoint}\")\n",
    "#     model = AutoCoconutForCausalLM.from_pretrained(\n",
    "#         checkpoint, torch_dtype=torch.bfloat16, device_map=get_device()\n",
    "#     ).eval()\n",
    "#     model.tokenizer = tokenizer\n",
    "#     accuracy = evaluate(dataloader_val, tokenizer, model, max_new_tokens)\n",
    "#     print(f\"Checkpoint: {checkpoint}, Accuracy: {accuracy}\")\n",
    "#     clear_memory()"
   ]
  },
  {
   "cell_type": "code",
   "execution_count": null,
   "metadata": {},
   "outputs": [],
   "source": []
  },
  {
   "cell_type": "code",
   "execution_count": null,
   "metadata": {},
   "outputs": [],
   "source": []
  }
 ],
 "metadata": {
  "kernelspec": {
   "display_name": ".venv",
   "language": "python",
   "name": "python3"
  },
  "language_info": {
   "codemirror_mode": {
    "name": "ipython",
    "version": 3
   },
   "file_extension": ".py",
   "mimetype": "text/x-python",
   "name": "python",
   "nbconvert_exporter": "python",
   "pygments_lexer": "ipython3",
   "version": "3.11.0rc1"
  }
 },
 "nbformat": 4,
 "nbformat_minor": 2
}
